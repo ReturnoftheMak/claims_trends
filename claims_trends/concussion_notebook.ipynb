{
 "cells": [
  {
   "cell_type": "markdown",
   "source": [
    "# Concussion Claims Tracking\r\n"
   ],
   "metadata": {}
  },
  {
   "cell_type": "code",
   "execution_count": 2,
   "source": [
    "import pandas as pd\r\n",
    "import matplotlib as plt\r\n",
    "import seaborn as sns\r\n",
    "import warnings\r\n",
    "warnings.filterwarnings('ignore')\r\n",
    "from sklearn.feature_extraction.text import CountVectorizer\r\n",
    "from preprocessing import scikit_vectorizer, PorterTokenizer, get_stopwords, sql_connection\r\n",
    "from concussion import get_relevant_claims, get_full_claims_data\r\n",
    "sns.set_theme(style=\"darkgrid\")"
   ],
   "outputs": [],
   "metadata": {}
  },
  {
   "cell_type": "code",
   "execution_count": 3,
   "source": [
    "key_words = ['concussion', 'cranial', 'brain',\r\n",
    "             'head', 'headache', 'migraine', 'dizzy',\r\n",
    "             'dizziness', 'fatigue', 'insomnia']"
   ],
   "outputs": [],
   "metadata": {}
  },
  {
   "cell_type": "code",
   "execution_count": 15,
   "source": [
    "# Get Claims Data, format\r\n",
    "\r\n",
    "engine = sql_connection('BASAPOPRDSQLV20', 'Apollo_Reporting')\r\n",
    "df_scm = pd.read_sql_query(\"SELECT ClaimDetailID, LossDescription, LossLocation from V_LMMData_SCM\", engine)\r\n",
    "df_cgen = pd.read_sql_query(\"SELECT ClaimDetailID, ClaimAdvisedDate, HandlingClass, UnderwritingYear from V_ClaimData_General\", engine)\r\n",
    "\r\n",
    "df_scm.drop_duplicates(subset=['ClaimDetailID'], keep='last', inplace=True)\r\n",
    "df = df_scm.merge(df_cgen, how=\"left\", on='ClaimDetailID')\r\n"
   ],
   "outputs": [],
   "metadata": {}
  },
  {
   "cell_type": "code",
   "execution_count": 17,
   "source": [
    "df.columns = ['claim_id', 'documents', 'loss_location', 'date', 'class', 'underwriting_year']\r\n",
    "df = df[['date', 'underwriting_year', 'loss_location', 'claim_id', 'class', 'documents']]\r\n",
    "df[\"date\"] = pd.to_datetime(df[\"date\"], infer_datetime_format=True)"
   ],
   "outputs": [],
   "metadata": {}
  },
  {
   "cell_type": "code",
   "execution_count": 18,
   "source": [
    "df.head()"
   ],
   "outputs": [
    {
     "output_type": "execute_result",
     "data": {
      "text/html": [
       "<div>\n",
       "<style scoped>\n",
       "    .dataframe tbody tr th:only-of-type {\n",
       "        vertical-align: middle;\n",
       "    }\n",
       "\n",
       "    .dataframe tbody tr th {\n",
       "        vertical-align: top;\n",
       "    }\n",
       "\n",
       "    .dataframe thead th {\n",
       "        text-align: right;\n",
       "    }\n",
       "</style>\n",
       "<table border=\"1\" class=\"dataframe\">\n",
       "  <thead>\n",
       "    <tr style=\"text-align: right;\">\n",
       "      <th></th>\n",
       "      <th>date</th>\n",
       "      <th>underwriting_year</th>\n",
       "      <th>loss_location</th>\n",
       "      <th>claim_id</th>\n",
       "      <th>class</th>\n",
       "      <th>documents</th>\n",
       "    </tr>\n",
       "  </thead>\n",
       "  <tbody>\n",
       "    <tr>\n",
       "      <th>0</th>\n",
       "      <td>2021-06-04 00:00:00</td>\n",
       "      <td>2019.0</td>\n",
       "      <td>I75 85 N, ATLANTA, GA</td>\n",
       "      <td>96742.0</td>\n",
       "      <td>Rover</td>\n",
       "      <td>CLMNT:ABIDEMI OGUNBODE-VEHICLE INCIDENT.</td>\n",
       "    </tr>\n",
       "    <tr>\n",
       "      <th>1</th>\n",
       "      <td>2017-12-15 00:00:00</td>\n",
       "      <td>2016.0</td>\n",
       "      <td>YANTIAN NICARAGUA</td>\n",
       "      <td>48446.0</td>\n",
       "      <td>Specie &amp; Miscellaneous</td>\n",
       "      <td>DAMAGE                    FEES</td>\n",
       "    </tr>\n",
       "    <tr>\n",
       "      <th>2</th>\n",
       "      <td>2018-01-12 00:00:00</td>\n",
       "      <td>2016.0</td>\n",
       "      <td>TBA</td>\n",
       "      <td>49331.0</td>\n",
       "      <td>Aviation</td>\n",
       "      <td>AEROFLOT OPERATING - DAMAGE TO THE TIP OF THE ...</td>\n",
       "    </tr>\n",
       "    <tr>\n",
       "      <th>3</th>\n",
       "      <td>2021-02-11 00:00:00</td>\n",
       "      <td>2020.0</td>\n",
       "      <td>MENA, AR</td>\n",
       "      <td>93092.0</td>\n",
       "      <td>Non Marine Liability</td>\n",
       "      <td>HUMAN REMAINS WERE FOUND IN A FREEZER THAT WAS...</td>\n",
       "    </tr>\n",
       "    <tr>\n",
       "      <th>4</th>\n",
       "      <td>2017-07-31 09:42:10</td>\n",
       "      <td>2016.0</td>\n",
       "      <td>PORT EVERGLADES , FLORIDA TO RIO HAINA, DOM REP</td>\n",
       "      <td>42210.0</td>\n",
       "      <td>Specie &amp; Miscellaneous</td>\n",
       "      <td>CARRIER RELEASED CARGO CON...</td>\n",
       "    </tr>\n",
       "  </tbody>\n",
       "</table>\n",
       "</div>"
      ],
      "text/plain": [
       "                 date  underwriting_year  \\\n",
       "0 2021-06-04 00:00:00             2019.0   \n",
       "1 2017-12-15 00:00:00             2016.0   \n",
       "2 2018-01-12 00:00:00             2016.0   \n",
       "3 2021-02-11 00:00:00             2020.0   \n",
       "4 2017-07-31 09:42:10             2016.0   \n",
       "\n",
       "                                     loss_location  claim_id  \\\n",
       "0                            I75 85 N, ATLANTA, GA   96742.0   \n",
       "1                                YANTIAN NICARAGUA   48446.0   \n",
       "2                                              TBA   49331.0   \n",
       "3                                         MENA, AR   93092.0   \n",
       "4  PORT EVERGLADES , FLORIDA TO RIO HAINA, DOM REP   42210.0   \n",
       "\n",
       "                    class                                          documents  \n",
       "0                   Rover           CLMNT:ABIDEMI OGUNBODE-VEHICLE INCIDENT.  \n",
       "1  Specie & Miscellaneous                     DAMAGE                    FEES  \n",
       "2                Aviation  AEROFLOT OPERATING - DAMAGE TO THE TIP OF THE ...  \n",
       "3    Non Marine Liability  HUMAN REMAINS WERE FOUND IN A FREEZER THAT WAS...  \n",
       "4  Specie & Miscellaneous                      CARRIER RELEASED CARGO CON...  "
      ]
     },
     "metadata": {},
     "execution_count": 18
    }
   ],
   "metadata": {}
  },
  {
   "cell_type": "code",
   "execution_count": 24,
   "source": [
    "# Get claims with key words in\r\n",
    "\r\n",
    "stop_words_combined = get_stopwords()\r\n",
    "vectorizer = scikit_vectorizer(stop_words_combined, PorterTokenizer, CountVectorizer)\r\n",
    "relevant_claims, df_relevant_claims = get_relevant_claims(df, vectorizer)"
   ],
   "outputs": [],
   "metadata": {}
  },
  {
   "cell_type": "code",
   "execution_count": 45,
   "source": [
    "# Plots here\r\n",
    "\r\n",
    "graph_data_1 = relevant_claims.groupby([relevant_claims.date.dt.year,'term'], as_index=True).sum().reset_index()\r\n",
    "graph_data_1.head(15)\r\n",
    "ax = sns.lineplot(x=graph_data_1.date, y=graph_data_1.mentions, hue=graph_data_1.term)\r\n",
    "ax.set(xlabel='Year Claim Advised', ylabel='Number of claims in which term occurs')\r\n",
    "plt.pyplot.legend(bbox_to_anchor=(1.05, 1), loc=2, borderaxespad=0.)"
   ],
   "outputs": [
    {
     "output_type": "execute_result",
     "data": {
      "text/plain": [
       "<matplotlib.legend.Legend at 0x23ce0f72190>"
      ]
     },
     "metadata": {},
     "execution_count": 45
    },
    {
     "output_type": "display_data",
     "data": {
      "image/png": "[encoded data removed]",
      "text/plain": [
       "<Figure size 432x288 with 1 Axes>"
      ]
     },
     "metadata": {}
    }
   ],
   "metadata": {}
  },
  {
   "cell_type": "code",
   "execution_count": null,
   "source": [
    "# Full claims data for relative numbers\r\n",
    "\r\n",
    "df_claims = get_full_claims_data(engine)"
   ],
   "outputs": [],
   "metadata": {}
  }
 ],
 "metadata": {
  "orig_nbformat": 4,
  "language_info": {
   "name": "python",
   "version": "3.8.5",
   "mimetype": "text/x-python",
   "codemirror_mode": {
    "name": "ipython",
    "version": 3
   },
   "pygments_lexer": "ipython3",
   "nbconvert_exporter": "python",
   "file_extension": ".py"
  },
  "kernelspec": {
   "name": "python3",
   "display_name": "Python 3.8.5 64-bit ('base': conda)"
  },
  "interpreter": {
   "hash": "b9a905221ccd5295789041b954433cbd95f441eedd3cb7767ffa34f1b77357a9"
  }
 },
 "nbformat": 4,
 "nbformat_minor": 2
}